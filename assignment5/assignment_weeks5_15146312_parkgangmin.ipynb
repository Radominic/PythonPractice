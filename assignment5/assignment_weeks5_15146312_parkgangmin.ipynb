{
 "cells": [
  {
   "cell_type": "markdown",
   "metadata": {},
   "source": [
    "# lab1"
   ]
  },
  {
   "cell_type": "code",
   "execution_count": 24,
   "metadata": {
    "scrolled": true
   },
   "outputs": [
    {
     "name": "stdout",
     "output_type": "stream",
     "text": [
      "Number of a Word \"Yesterday\"  9\n"
     ]
    }
   ],
   "source": [
    "f = open(\"C:/Users/Gangmin/Desktop/gangmin/4-1/데이터처리언어/assignment/yesterday.txt\")\n",
    "yesterday_lyric = f.readlines()\n",
    "yesterday_lyric = str(yesterday_lyric).lower()\n",
    "print(\"Number of a Word \\\"Yesterday\\\" \",yesterday_lyric.count(\"yesterday\"))\n",
    "f.close()"
   ]
  },
  {
   "cell_type": "markdown",
   "metadata": {},
   "source": [
    "# lab2"
   ]
  },
  {
   "cell_type": "code",
   "execution_count": 27,
   "metadata": {},
   "outputs": [
    {
     "name": "stdout",
     "output_type": "stream",
     "text": [
      "아래 학생들의 전화번호를 조회할 수 있습니다.\n",
      "홍길동\n",
      "이순신\n",
      "강감찬\n",
      "전화번호를 조회하고자 하는 학생의 이름을 입력하십시오.홍길동\n",
      "010-1111-1111\n"
     ]
    }
   ],
   "source": [
    "student_list = {\"홍길동\":\"010-1111-1111\",\"이순신\":\"010-1111-2222\",\"강감찬\":\"010-1111-3333\"}\n",
    "\n",
    "print(\"아래 학생들의 전화번호를 조회할 수 있습니다.\")\n",
    "for k in student_list.keys():\n",
    "    print(k)\n",
    "name = input(\"전화번호를 조회하고자 하는 학생의 이름을 입력하십시오.\")\n",
    "print(student_list[name])"
   ]
  },
  {
   "cell_type": "markdown",
   "metadata": {},
   "source": [
    "# lab3"
   ]
  },
  {
   "cell_type": "code",
   "execution_count": 29,
   "metadata": {},
   "outputs": [
    {
     "name": "stdout",
     "output_type": "stream",
     "text": [
      "{'apple': 5, 'banana': 6, 'melon': 5}\n"
     ]
    }
   ],
   "source": [
    "fruit = ['   apple    ','banana','  melon']\n",
    "fruit_dict = {}\n",
    "for i in fruit:\n",
    "    fruit_dict[i.strip()] = len(i.strip())\n",
    "print(fruit_dict)"
   ]
  },
  {
   "cell_type": "code",
   "execution_count": null,
   "metadata": {},
   "outputs": [],
   "source": []
  }
 ],
 "metadata": {
  "kernelspec": {
   "display_name": "Python 3",
   "language": "python",
   "name": "python3"
  },
  "language_info": {
   "codemirror_mode": {
    "name": "ipython",
    "version": 3
   },
   "file_extension": ".py",
   "mimetype": "text/x-python",
   "name": "python",
   "nbconvert_exporter": "python",
   "pygments_lexer": "ipython3",
   "version": "3.6.6"
  }
 },
 "nbformat": 4,
 "nbformat_minor": 2
}
