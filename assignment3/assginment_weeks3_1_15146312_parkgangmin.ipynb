{
 "cells": [
  {
   "cell_type": "markdown",
   "metadata": {},
   "source": [
    "# 구구단 계산기"
   ]
  },
  {
   "cell_type": "code",
   "execution_count": 4,
   "metadata": {},
   "outputs": [
    {
     "name": "stdout",
     "output_type": "stream",
     "text": [
      "구구단 몇 단을 계산할까?5\n",
      "구구단 5 단을 계산한다.\n",
      "5 x 1  =  5\n",
      "5 x 2  =  10\n",
      "5 x 3  =  15\n",
      "5 x 4  =  20\n",
      "5 x 5  =  25\n",
      "5 x 6  =  30\n",
      "5 x 7  =  35\n",
      "5 x 8  =  40\n",
      "5 x 9  =  45\n"
     ]
    }
   ],
   "source": [
    "number = int(input(\"구구단 몇 단을 계산할까?\"))\n",
    "print(\"구구단\",number,\"단을 계산한다.\")\n",
    "\n",
    "for i in range(1,10):\n",
    "    print(number,\"x\",i,\" = \",number*i)"
   ]
  },
  {
   "cell_type": "markdown",
   "metadata": {},
   "source": [
    "# 십진수를 이진수로 변환"
   ]
  },
  {
   "cell_type": "code",
   "execution_count": 23,
   "metadata": {},
   "outputs": [
    {
     "name": "stdout",
     "output_type": "stream",
     "text": [
      "10진수를 입력하시오.10\n",
      "10진수 :  10\n",
      "2진수 :  1010\n"
     ]
    }
   ],
   "source": [
    "num = int(input(\"10진수를 입력하시오.\"))\n",
    "print(\"10진수 : \",num)\n",
    "\n",
    "binary = \"\"\n",
    "while num != 1:\n",
    "    binary = str(num%2)+binary\n",
    "    num = num//2\n",
    "else:\n",
    "    binary = str(num) + binary\n",
    "\n",
    "print(\"2진수 : \", binary)"
   ]
  },
  {
   "cell_type": "markdown",
   "metadata": {},
   "source": [
    "# 숫자 찾기 게임"
   ]
  },
  {
   "cell_type": "code",
   "execution_count": 1,
   "metadata": {},
   "outputs": [
    {
     "name": "stdout",
     "output_type": "stream",
     "text": [
      "숫자를 맞혀 보세요.(1~100)\n",
      "50\n",
      "숫자가 너무 큽니다.\n",
      "35\n",
      "숫자가 너무 작습니다.\n",
      "45\n",
      "숫자가 너무 작습니다.\n",
      "48\n",
      "숫자가 너무 큽니다.\n",
      "47\n",
      "숫자가 너무 큽니다.\n",
      "46\n",
      "정답입니다. 입력한 숫자는  46 입니다.\n"
     ]
    }
   ],
   "source": [
    "print(\"숫자를 맞혀 보세요.(1~100)\")\n",
    "from random import *\n",
    "rand = randint(1, 100)\n",
    "\n",
    "while True:\n",
    "    n = int(input())\n",
    "    if n > rand:\n",
    "        print(\"숫자가 너무 큽니다.\")\n",
    "    elif n<rand:\n",
    "        print(\"숫자가 너무 작습니다.\")\n",
    "    else:\n",
    "        print(\"정답입니다. 입력한 숫자는 \",rand,\"입니다.\")\n",
    "        break"
   ]
  },
  {
   "cell_type": "code",
   "execution_count": null,
   "metadata": {},
   "outputs": [],
   "source": []
  }
 ],
 "metadata": {
  "kernelspec": {
   "display_name": "Python 3",
   "language": "python",
   "name": "python3"
  },
  "language_info": {
   "codemirror_mode": {
    "name": "ipython",
    "version": 3
   },
   "file_extension": ".py",
   "mimetype": "text/x-python",
   "name": "python",
   "nbconvert_exporter": "python",
   "pygments_lexer": "ipython3",
   "version": "3.6.6"
  }
 },
 "nbformat": 4,
 "nbformat_minor": 2
}
