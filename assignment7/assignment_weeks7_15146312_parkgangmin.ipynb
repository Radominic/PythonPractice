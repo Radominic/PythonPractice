{
 "cells": [
  {
   "cell_type": "markdown",
   "metadata": {},
   "source": [
    "#lab"
   ]
  },
  {
   "cell_type": "code",
   "execution_count": 1,
   "metadata": {},
   "outputs": [],
   "source": [
    "path = \"C:/Users/Gangmin/Desktop/gangmin/4-1/데이터처리언어/assignment/assignment7\""
   ]
  },
  {
   "cell_type": "code",
   "execution_count": 2,
   "metadata": {},
   "outputs": [],
   "source": [
    "import os\n",
    "os.sys.path.append(path)\n",
    "from Notebook import Note\n",
    "from Notebook import NoteBook"
   ]
  },
  {
   "cell_type": "code",
   "execution_count": 3,
   "metadata": {},
   "outputs": [],
   "source": [
    "good_sententce = '''세상 사는 데 도움이 되는 명언, 힘이 되는 명언, 용기를 주는 명언, 위로되는 명언, 좋은 명언 모음 100가지. 자주 보면 좋을 것 같아 선별했습니다.'''\n",
    "note_1 = Note(good_sententce)\n",
    "\n",
    "good_sententce = '''삶이 있는 한 희망은 있다. - 키케로'''\n",
    "note_2 = Note(good_sententce)\n",
    "\n",
    "good_sententce = '''하루에 3시간을 걸으면 7년 후에 지구를 한 바퀴 돌 수 있다. - 새뮤얼 존슨'''\n",
    "note_3 = Note(good_sententce)\n",
    "\n",
    "good_sententce = '''행복의 문이 하나 닫히면 다른 문이 열린다. 그러나 우리는 종종 닫힌 문을 멍하니 바라보다가 우리르 향해 열린 문을 보지 못하게 된다. - 헬렌 켈러'''\n",
    "note_4 = Note(good_sententce)"
   ]
  },
  {
   "cell_type": "code",
   "execution_count": 4,
   "metadata": {},
   "outputs": [
    {
     "data": {
      "text/plain": [
       "<Notebook.Note at 0x1bfa65b8d30>"
      ]
     },
     "execution_count": 4,
     "metadata": {},
     "output_type": "execute_result"
    }
   ],
   "source": [
    "note_1"
   ]
  },
  {
   "cell_type": "code",
   "execution_count": 5,
   "metadata": {},
   "outputs": [
    {
     "name": "stdout",
     "output_type": "stream",
     "text": [
      "세상 사는 데 도움이 되는 명언, 힘이 되는 명언, 용기를 주는 명언, 위로되는 명언, 좋은 명언 모음 100가지. 자주 보면 좋을 것 같아 선별했습니다.\n"
     ]
    }
   ],
   "source": [
    "print(note_1)"
   ]
  },
  {
   "cell_type": "code",
   "execution_count": 6,
   "metadata": {},
   "outputs": [
    {
     "name": "stdout",
     "output_type": "stream",
     "text": [
      "삭제된 노트입니다.\n",
      "\n"
     ]
    }
   ],
   "source": [
    "note_1.remove_all()\n",
    "print(note_1)"
   ]
  },
  {
   "cell_type": "code",
   "execution_count": 7,
   "metadata": {},
   "outputs": [],
   "source": [
    "wise_saying_notebook = NoteBook(\"명언노트\")\n",
    "wise_saying_notebook.add_note(note_1)\n",
    "wise_saying_notebook.add_note(note_2)\n",
    "wise_saying_notebook.add_note(note_3)\n",
    "wise_saying_notebook.add_note(note_4)"
   ]
  },
  {
   "cell_type": "code",
   "execution_count": 8,
   "metadata": {},
   "outputs": [
    {
     "name": "stdout",
     "output_type": "stream",
     "text": [
      "4\n"
     ]
    }
   ],
   "source": [
    "print(wise_saying_notebook.get_number_of_all_pages())"
   ]
  },
  {
   "cell_type": "code",
   "execution_count": 9,
   "metadata": {},
   "outputs": [
    {
     "name": "stdout",
     "output_type": "stream",
     "text": [
      "106\n"
     ]
    }
   ],
   "source": [
    "print(wise_saying_notebook.get_number_of_all_characters())"
   ]
  },
  {
   "cell_type": "code",
   "execution_count": 10,
   "metadata": {},
   "outputs": [
    {
     "name": "stdout",
     "output_type": "stream",
     "text": [
      "3\n"
     ]
    }
   ],
   "source": [
    "wise_saying_notebook.remove_note(3)\n",
    "print(wise_saying_notebook.get_number_of_all_pages())"
   ]
  },
  {
   "cell_type": "code",
   "execution_count": 11,
   "metadata": {},
   "outputs": [
    {
     "name": "stdout",
     "output_type": "stream",
     "text": [
      "해당 페이지에는 이미 노트가 존재합니다.\n"
     ]
    }
   ],
   "source": [
    "wise_saying_notebook.add_note(note_1,100)\n",
    "wise_saying_notebook.add_note(note_1,100)"
   ]
  },
  {
   "cell_type": "code",
   "execution_count": 12,
   "metadata": {},
   "outputs": [
    {
     "name": "stdout",
     "output_type": "stream",
     "text": [
      "4\n"
     ]
    }
   ],
   "source": [
    "print(wise_saying_notebook.get_number_of_all_pages())"
   ]
  },
  {
   "cell_type": "code",
   "execution_count": 13,
   "metadata": {},
   "outputs": [
    {
     "name": "stdout",
     "output_type": "stream",
     "text": [
      "해당 페이지에는 이미 노트가 존재합니다.\n",
      "해당 페이지에는 이미 노트가 존재합니다.\n",
      "해당 페이지에는 이미 노트가 존재합니다.\n",
      "해당 페이지에는 이미 노트가 존재합니다.\n"
     ]
    }
   ],
   "source": [
    "for i in range(300):\n",
    "    wise_saying_notebook.add_note(note_1,i)"
   ]
  },
  {
   "cell_type": "code",
   "execution_count": 14,
   "metadata": {},
   "outputs": [
    {
     "name": "stdout",
     "output_type": "stream",
     "text": [
      "300\n"
     ]
    }
   ],
   "source": [
    "print(wise_saying_notebook.get_number_of_all_pages())"
   ]
  },
  {
   "cell_type": "code",
   "execution_count": null,
   "metadata": {},
   "outputs": [],
   "source": []
  }
 ],
 "metadata": {
  "kernelspec": {
   "display_name": "Python 3",
   "language": "python",
   "name": "python3"
  },
  "language_info": {
   "codemirror_mode": {
    "name": "ipython",
    "version": 3
   },
   "file_extension": ".py",
   "mimetype": "text/x-python",
   "name": "python",
   "nbconvert_exporter": "python",
   "pygments_lexer": "ipython3",
   "version": "3.6.6"
  }
 },
 "nbformat": 4,
 "nbformat_minor": 2
}
