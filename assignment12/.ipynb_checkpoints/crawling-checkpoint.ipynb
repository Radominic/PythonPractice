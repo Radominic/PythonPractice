{
 "cells": [
  {
   "cell_type": "code",
   "execution_count": 114,
   "metadata": {},
   "outputs": [],
   "source": [
    "import requests\n",
    "from bs4 import BeautifulSoup"
   ]
  },
  {
   "cell_type": "code",
   "execution_count": 115,
   "metadata": {},
   "outputs": [],
   "source": [
    "from selenium import webdriver\n",
    "\n",
    "driver = webdriver.Chrome('C:/Users/Gangmin/Desktop/gangmin/4-1/DL/chromedriver')"
   ]
  },
  {
   "cell_type": "code",
   "execution_count": 116,
   "metadata": {},
   "outputs": [],
   "source": [
    "#주소\n",
    "url = 'https://news.daum.net/'\n",
    "\n",
    "driver.get(url)\n",
    "html = requests.get(url).text.strip()\n",
    "driver.implicitly_wait(3)\n",
    "driver.find_element_by_xpath('//*[@id=\"kakaoGnb\"]/div/ul/li[5]/a').click()\n",
    "driver.implicitly_wait(3)\n",
    "driver.find_element_by_xpath('//*[@id=\"mArticle\"]/div/a').click()\n",
    "driver.implicitly_wait(3)"
   ]
  },
  {
   "cell_type": "code",
   "execution_count": 117,
   "metadata": {
    "scrolled": false
   },
   "outputs": [
    {
     "name": "stdout",
     "output_type": "stream",
     "text": [
      "BRITAIN BLACK LIVES MATTER\n",
      "epa08483146 Protesters gather in Trafalgar Square during a Black Lives Matter (BLM) demonstration in London, Britain, 13 June 2020. Protesters gathered to express their feelings about the killing of George Floyd. The 46-year-old Floyd died in police custody in Minneapolis, Minnesota, USA, on 25 May 2020, after an officer pressed a knee on the neck of the handcuffed African-American man lying on the ground for almost nine minutes. EPA/NEIL HALL\n",
      "None\n",
      "\n",
      "GERMANY BERLIN SINTI ROMA MEMORIAL PROTEST\n",
      "epa08483143 A protester holds a banner reading 'save the memorial' at the 'Memorial to the Sinti and Roma Victims of National Socialism' in Berlin, Germany, 13 June, 2020. The protesters oppose a suggestion by the Deutsche Bahn to temporarily re-locate or partially shut down the memorial during the planned expansion project of the S-Bahn S21 line near the Reichstag building. EPA/OMER MESSINGER\n",
      "None\n",
      "\n",
      "America Protests Global Britain\n",
      "Members of Black Lives Matter movement chant slogans during a protest at Trafalgar Square in central London, Saturday, June 13, 2020. British police have imposed strict restrictions on groups protesting in London Saturday in a bid to avoid violent clashes between protesters from the Black Lives Matter movement, as well as far-right groups that gathered to counter-protest.(AP Photo/Kirsty Wigglesworth)\n",
      "None\n",
      "\n",
      "West Point Graduation\n",
      "President Donald Trump speaks to United States Military Academy graduating cadets during commencement ceremonies, Saturday, June 13, 2020, in West Point, N.Y. Trump’s commencement speech to the 1,100 graduating cadets during a global pandemic comes as arguments rage over his threat to use American troops on U.S. soil to quell protests stemming from the killing of George Floyd by a Minneapolis police officer. (AP Photo/John Minchillo, Pool)\n",
      "None\n",
      "\n",
      "America Protests Global Britain\n",
      "Members of Black Lives Matter movement chant slogans during a protest at Trafalgar Square in central London, Saturday, June 13, 2020. British police have imposed strict restrictions on groups protesting in London Saturday in a bid to avoid violent clashes between protesters from the Black Lives Matter movement, as well as far-right groups that gathered to counter-protest.(AP Photo/Kirsty Wigglesworth)\n",
      "None\n",
      "\n",
      "Nepal India\n",
      "People light candles on an outline of the new map of Nepal drawn on a road as they celebrate the approval of the political map to include territory claimed by both India and Nepal, in Kathmandu, Nepal, Saturday, June 13, 2020. Nepal’s Parliament on Saturday overwhelmingly approved the constitutional amendment to change the nation’s political map. The voting follows the government's issuing of a new map last month that showed the disputed territory within its borders. (AP Photo/Niranjan Shrestha)\n",
      "None\n",
      "\n",
      "BRITAIN BLACK LIVES MATTER\n",
      "epa08483140 Protesters gather in Trafalgar Square during a Black Lives Matter (BLM) demonstration in London, Britain, 13 June 2020. Protesters gathered to express their feelings about the killing of George Floyd. The 46-year-old Floyd died in police custody in Minneapolis, Minnesota, USA, on 25 May 2020, after an officer pressed a knee on the neck of the handcuffed African-American man lying on the ground for almost nine minutes. EPA/NEIL HALL\n",
      "None\n",
      "\n",
      "BRITAIN BLACK LIVES MATTER\n",
      "epa08483134 Protesters gather in Trafalgar Square during a Black Lives Matter (BLM) demonstration in London, Britain, 13 June 2020. Protesters gathered to express their feelings about the killing of George Floyd. The 46-year-old Floyd died in police custody in Minneapolis, Minnesota, USA, on 25 May 2020, after an officer pressed a knee on the neck of the handcuffed African-American man lying on the ground for almost nine minutes. EPA/NEIL HALL\n",
      "None\n",
      "\n",
      "BRITAIN BLACK LIVES MATTER\n",
      "epa08483123 Protesters gather in Trafalgar Square during a Black Lives Matter (BLM) demonstration in London, Britain, 13 June 2020. Protesters gathered to express their feelings about the killing of George Floyd. The 46-year-old Floyd died in police custody in Minneapolis, Minnesota, USA, on 25 May 2020, after an officer pressed a knee on the neck of the handcuffed African-American man lying on the ground for almost nine minutes. EPA/NEIL HALL\n",
      "None\n",
      "\n",
      "CZECH REPUBLIC BLM PROTEST\n",
      "epa08483120 People protest during a solidarity rally against police and racial violence in the United States, in Prague, Czech Republic, 13 June 2020. Hundreds of protesters gathered in commemoration of the death of George Floyd, an African-American man who died while in Minneapolis police custody on 25 May after the arresting officer knelt on his neck for 8 minutes. The brutal killing of an African American man has sparked world wide anger resulting in Black Lives Mater and anti Police brutality protests all over the world. EPA/MARTIN DIVISEK\n",
      "None\n",
      "\n",
      "West Point Graduation\n",
      "President Donald Trump speaks to United States Military Academy graduating cadets during commencement ceremonies, Saturday, June 13, 2020, in West Point, N.Y. Trump’s commencement speech to the 1,100 graduating cadets during a global pandemic comes as arguments rage over his threat to use American troops on U.S. soil to quell protests stemming from the killing of George Floyd by a Minneapolis police officer. (AP Photo/John Minchillo, Pool)\n",
      "None\n",
      "\n",
      "CORRECTION Virus Outbreak Germany Soccer Bundesliga\n",
      "CORRECTS NAME OF A PLAYER - Frankfurt's Japanese midfielder Daichi Kamada, left, sets up the second goal in front of Hertha Berlin's Norwegian goalkeeper Rune Jarstein, right, during the German Bundesliga soccer match between Hertha BSC Berlin and Eintracht Frankfurt in Berlin, Germany, Saturday June 13, 2020. Because of the coronavirus outbreak all soccer matches of the German Bundesliga take place without spectators. (Photo by John MacDougall/Pool via AP)\n",
      "None\n",
      "\n",
      "EPA OUTLOOK\n",
      "epa08483119 We expect to move pictures on the following news, entertainment and sports items on the epa network Sunday 14 June 2020:\n",
      "None\n",
      "NEWS\n",
      "WORLD. Coronavirus developments\n",
      "CHINA: Monitoring COVID-19 cluster in Beijing\n",
      "AYUTTHAYA: Tourism following easing of restrictions\n",
      "BEIRUT: Anti-government protest in downtown\n",
      "SWITZERLAND: Women's strike\n",
      "USA: Black Lives Matter protest developments\n",
      "SPORTS\n",
      "BELGRADE: Tennis Adria Tour\n",
      "GERMANY: Soccer various German Bundesliga matches\n",
      "SPAIN: Soccer various Spanish La Liga matches\n",
      "SWEDEN: Soccer various Swedish Allsvenskan league matches\n",
      "EDITORIAL CONTACT\n",
      "B.Wenz\n",
      "picturedesk@epa.eu EPA/DSK\n",
      "\n",
      "USA ATLANTA POLICE SHOOTING DEATH\n",
      "epa08483116 A small group of protesters gather at the scene of an overnight Atlanta Police Department officer involved shooting which left a black man dead at a Wendy's restaurant in Atlanta, Georgia, USA, 13 June 2020. The Georgia Bureau of Investigation (GBI) is probing the shooting death of Rayshard Brooks, 27, after a reported struggle with officers ensued during which a Taser was used late 12 June 2020. The investigation by the GBI into the police involved shooting is the 48th in Georgia the agency has been asked to look into during 2020. EPA/ERIK S. LESSER\n",
      "None\n",
      "\n",
      "APTOPIX Trump\n",
      "West Point Class President Cadet Joshua Phillips, from Chicago, wipes a tear during the musical performances portion of a commencement ceremony for the Class of 2020 on the parade field, at the United States Military Academy in West Point, N.Y., Saturday, June 13, 2020. (AP Photo/Alex Brandon)\n",
      "None\n",
      "\n"
     ]
    }
   ],
   "source": [
    "#for\n",
    "html = requests.get(driver.current_url).text.strip()\n",
    "\n",
    "soup = BeautifulSoup(html,'html5lib')\n",
    "\n",
    "links = soup.find_all('div',class_='box_etc')\n",
    "\n",
    "link = links[0].find_all('a',class_='link_thumb')\n",
    "\n",
    "for i in link:\n",
    "    temp_html = requests.get(i['href']).text.strip()\n",
    "    \n",
    "    souP = BeautifulSoup(temp_html,'html5lib')\n",
    "    print(souP.find('title').string)\n",
    "    for j in souP.find('div',class_='article_view').find_all('p'):\n",
    "        print(j.string)\n",
    "    \n",
    "    print()\n",
    "    "
   ]
  },
  {
   "cell_type": "code",
   "execution_count": null,
   "metadata": {},
   "outputs": [],
   "source": []
  }
 ],
 "metadata": {
  "kernelspec": {
   "display_name": "Python 3",
   "language": "python",
   "name": "python3"
  },
  "language_info": {
   "codemirror_mode": {
    "name": "ipython",
    "version": 3
   },
   "file_extension": ".py",
   "mimetype": "text/x-python",
   "name": "python",
   "nbconvert_exporter": "python",
   "pygments_lexer": "ipython3",
   "version": "3.6.6"
  }
 },
 "nbformat": 4,
 "nbformat_minor": 4
}
